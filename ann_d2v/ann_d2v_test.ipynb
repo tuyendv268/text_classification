{
  "cells": [
    {
      "cell_type": "code",
      "execution_count": 1,
      "metadata": {
        "colab": {
          "base_uri": "https://localhost:8080/"
        },
        "id": "57HNmbaCqc7_",
        "outputId": "dc9932e4-947f-470a-8735-96083df4d02e"
      },
      "outputs": [
        {
          "name": "stdout",
          "output_type": "stream",
          "text": [
            "Requirement already satisfied: sklearn in c:\\users\\tuyen.dv\\anaconda3\\lib\\site-packages (0.0)\n",
            "Requirement already satisfied: scikit-learn in c:\\users\\tuyen.dv\\anaconda3\\lib\\site-packages (from sklearn) (0.21.3)\n",
            "Requirement already satisfied: joblib>=0.11 in c:\\users\\tuyen.dv\\anaconda3\\lib\\site-packages (from scikit-learn->sklearn) (1.1.0)\n",
            "Requirement already satisfied: scipy>=0.17.0 in c:\\users\\tuyen.dv\\anaconda3\\lib\\site-packages (from scikit-learn->sklearn) (1.1.0)\n",
            "Requirement already satisfied: numpy>=1.11.0 in c:\\users\\tuyen.dv\\anaconda3\\lib\\site-packages (from scikit-learn->sklearn) (1.17.0)\n"
          ]
        }
      ],
      "source": [
        "!pip install sklearn"
      ]
    },
    {
      "cell_type": "code",
      "execution_count": 23,
      "metadata": {
        "id": "CSFyu3_rqgFq"
      },
      "outputs": [],
      "source": [
        "import numpy as np\n",
        "import torch.nn as nn\n",
        "import torch.optim as optim\n",
        "import torch\n",
        "import gensim\n",
        "import json\n",
        "from gensim.models import Doc2Vec \n",
        "from pyvi import ViTokenizer"
      ]
    },
    {
      "cell_type": "code",
      "execution_count": 24,
      "metadata": {
        "id": "CJKeEMweWBM8"
      },
      "outputs": [],
      "source": [
        "d2v_model = Doc2Vec.load(\"doc2vec.model\")"
      ]
    },
    {
      "cell_type": "code",
      "execution_count": 25,
      "metadata": {},
      "outputs": [
        {
          "data": {
            "text/plain": [
              "(33028, 300)"
            ]
          },
          "execution_count": 25,
          "metadata": {},
          "output_type": "execute_result"
        }
      ],
      "source": [
        "d2v_model.wv.vectors.shape"
      ]
    },
    {
      "cell_type": "code",
      "execution_count": 26,
      "metadata": {},
      "outputs": [],
      "source": [
        "with open(\"C:\\\\Users\\\\tuyen.dv\\\\Documents\\\\NLP\\\\NLP_tuan_3\\\\Data\\\\stopword.txt\", encoding=\"utf-8\") as f:\n",
        "  stopwords = f.readlines()\n",
        "stopwords = [x.strip().replace(\" \", \"_\") for x in stopwords]"
      ]
    },
    {
      "cell_type": "code",
      "execution_count": 27,
      "metadata": {},
      "outputs": [],
      "source": [
        "with open(\"C:\\\\Users\\\\tuyen.dv\\\\Documents\\\\NLP\\\\NLP_tuan_3\\\\Data\\\\datasetVNTC.json\", encoding=\"utf-8\") as f:\n",
        "  data_train = json.load(f)"
      ]
    },
    {
      "cell_type": "code",
      "execution_count": 28,
      "metadata": {
        "id": "32OezyFG0c4A"
      },
      "outputs": [],
      "source": [
        "class MultilayerPerceptron(nn.Module):\n",
        "\n",
        "  def __init__(self, input_size,output_size):\n",
        "    super(MultilayerPerceptron, self).__init__()\n",
        "\n",
        "    # Saving the initialization parameters\n",
        "    self.input_size = input_size \n",
        "    self.output_size = output_size\n",
        "\n",
        "    # Defining model\n",
        "    self.model = nn.Sequential(\n",
        "        nn.Linear(self.input_size, 128),\n",
        "        nn.ReLU(),\n",
        "        nn.Linear(128, 64),\n",
        "        nn.ReLU(),\n",
        "        nn.Linear(64, output_size),\n",
        "    )\n",
        "    \n",
        "  def forward(self, x):\n",
        "    output = self.model(x)\n",
        "    return output"
      ]
    },
    {
      "cell_type": "code",
      "execution_count": 29,
      "metadata": {},
      "outputs": [],
      "source": [
        "model = MultilayerPerceptron(300, 10)"
      ]
    },
    {
      "cell_type": "code",
      "execution_count": 30,
      "metadata": {},
      "outputs": [
        {
          "data": {
            "text/plain": [
              "<All keys matched successfully>"
            ]
          },
          "execution_count": 30,
          "metadata": {},
          "output_type": "execute_result"
        }
      ],
      "source": [
        "model.load_state_dict(torch.load('ann_d2v.pth'))"
      ]
    },
    {
      "cell_type": "code",
      "execution_count": 31,
      "metadata": {},
      "outputs": [],
      "source": [
        "new_data = \"Theo thống kê mới đây, 188/500 siêu máy tính mạnh nhất thế giới đang ở Trung Quốc. Trong khi đó, con số này của Mỹ là 122 siêu máy tính.Siêu máy tính mạnh nhất thế giới hiện nay là Fugaku, do hãng Fujitsu và Viện Nghiên cứu quốc gia Riken của Nhật Bản phát triển và có tốc độ tính toán lên đến 442 petaflop (1 petaflop = 1 triệu tỉ phép tính/giây).Không đứng ngoài cuộc chơi, một số nước Đông Nam Á hiện cũng tăng cường đầu tư phát triển siêu máy tính\""
      ]
    },
    {
      "cell_type": "code",
      "execution_count": 32,
      "metadata": {},
      "outputs": [],
      "source": [
        "tokenized_new_data = ViTokenizer.tokenize(new_data)"
      ]
    },
    {
      "cell_type": "code",
      "execution_count": 33,
      "metadata": {},
      "outputs": [],
      "source": [
        "temp = [word for word in tokenized_new_data.split() if word not in stopwords]"
      ]
    },
    {
      "cell_type": "code",
      "execution_count": 34,
      "metadata": {},
      "outputs": [],
      "source": [
        "data_preprocessed = gensim.utils.simple_preprocess(' '.join(temp))"
      ]
    },
    {
      "cell_type": "code",
      "execution_count": 35,
      "metadata": {},
      "outputs": [],
      "source": [
        "X = d2v_model.infer_vector(data_preprocessed)"
      ]
    },
    {
      "cell_type": "code",
      "execution_count": 36,
      "metadata": {},
      "outputs": [
        {
          "name": "stdout",
          "output_type": "stream",
          "text": [
            "data :  Theo thống kê mới đây, 188/500 siêu máy tính mạnh nhất thế giới đang ở Trung Quốc. Trong khi đó, con số này của Mỹ là 122 siêu máy tính.Siêu máy tính mạnh nhất thế giới hiện nay là Fugaku, do hãng Fujitsu và Viện Nghiên cứu quốc gia Riken của Nhật Bản phát triển và có tốc độ tính toán lên đến 442 petaflop (1 petaflop = 1 triệu tỉ phép tính/giây).Không đứng ngoài cuộc chơi, một số nước Đông Nam Á hiện cũng tăng cường đầu tư phát triển siêu máy tính\n",
            "predict :  vi tính\n"
          ]
        }
      ],
      "source": [
        "print(\"data : \",new_data)\n",
        "print(\"predict : \",data_train['target_names'][np.argmax(model(torch.tensor(X, dtype = torch.float)).tolist())])"
      ]
    }
  ],
  "metadata": {
    "accelerator": "GPU",
    "colab": {
      "collapsed_sections": [],
      "name": "ann_d2v.ipynb",
      "provenance": []
    },
    "kernelspec": {
      "display_name": "Python 3",
      "name": "python3"
    },
    "language_info": {
      "codemirror_mode": {
        "name": "ipython",
        "version": 3
      },
      "file_extension": ".py",
      "mimetype": "text/x-python",
      "name": "python",
      "nbconvert_exporter": "python",
      "pygments_lexer": "ipython3",
      "version": "3.7.1"
    }
  },
  "nbformat": 4,
  "nbformat_minor": 0
}
