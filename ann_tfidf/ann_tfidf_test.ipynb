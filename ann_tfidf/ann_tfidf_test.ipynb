{
 "cells": [
  {
   "cell_type": "code",
   "execution_count": 1,
   "metadata": {},
   "outputs": [],
   "source": [
    "from sklearn.decomposition import TruncatedSVD\n",
    "from sklearn.feature_extraction.text import TfidfVectorizer\n",
    "import json\n",
    "import torch.nn as nn\n",
    "import torch\n",
    "import numpy as np\n",
    "from pyvi import ViTokenizer"
   ]
  },
  {
   "cell_type": "code",
   "execution_count": 2,
   "metadata": {},
   "outputs": [],
   "source": [
    "with open(\"C:\\\\Users\\\\tuyen.dv\\\\Documents\\\\NLP\\\\NLP_tuan_3\\\\Data\\\\stopword.txt\", encoding=\"utf-8\") as f:\n",
    "  stopwords = f.readlines()\n",
    "stopwords = [x.strip().replace(\" \", \"_\") for x in stopwords]\n",
    "with open(\"C:\\\\Users\\\\tuyen.dv\\\\Documents\\\\NLP\\\\NLP_tuan_3\\\\Data\\\\datasetVNTC.json\", encoding=\"utf-8\") as f:\n",
    "  data_train = json.load(f)"
   ]
  },
  {
   "cell_type": "code",
   "execution_count": 3,
   "metadata": {},
   "outputs": [],
   "source": [
    "tfidf_vector = TfidfVectorizer(stop_words=stopwords)\n",
    "tfidf_matrix = tfidf_vector.fit_transform(data_train['data'], data_train['target'])"
   ]
  },
  {
   "cell_type": "code",
   "execution_count": 6,
   "metadata": {},
   "outputs": [],
   "source": [
    "class MultilayerPerceptron(nn.Module):\n",
    "\n",
    "  def __init__(self, input_size,output_size):\n",
    "    super(MultilayerPerceptron, self).__init__()\n",
    "\n",
    "    # Saving the initialization parameters\n",
    "    self.input_size = input_size \n",
    "    self.output_size = output_size\n",
    "\n",
    "    # Defining model\n",
    "    self.model = nn.Sequential(\n",
    "        nn.Linear(self.input_size, 128),\n",
    "        nn.ReLU(),\n",
    "        nn.Linear(128, 32),\n",
    "        nn.ReLU(),\n",
    "        nn.Linear(32, output_size),\n",
    "    )\n",
    "    \n",
    "  def forward(self, x):\n",
    "    output = self.model(x)\n",
    "    return output\n"
   ]
  },
  {
   "cell_type": "code",
   "execution_count": 7,
   "metadata": {},
   "outputs": [
    {
     "data": {
      "text/plain": [
       "<All keys matched successfully>"
      ]
     },
     "execution_count": 7,
     "metadata": {},
     "output_type": "execute_result"
    }
   ],
   "source": [
    "svd = TruncatedSVD(n_components=300)\n",
    "svd.fit(tfidf_matrix)\n",
    "model = MultilayerPerceptron(300, 10)\n",
    "model.load_state_dict(torch.load('ann_tfidf.pth'))"
   ]
  },
  {
   "cell_type": "code",
   "execution_count": 8,
   "metadata": {},
   "outputs": [],
   "source": [
    "new_data = \"Theo Reuters, lãnh đạo các quốc gia Baltic và Trung Âu hôm 16-12 nói rằng EU đang bị Nga tấn công từ nhiều mặt và phải đoàn kết sau các biện pháp trừng phạt kinh tế mới, trong đó Lithuania viện dẫn nguy cơ có thể bị Nga tấn công quân sự từ Belarus.\""
   ]
  },
  {
   "cell_type": "code",
   "execution_count": 9,
   "metadata": {},
   "outputs": [],
   "source": [
    "tokenized_new_data = ViTokenizer.tokenize(new_data)\n",
    "input_data_preprocessed = tfidf_vector.transform([tokenized_new_data])\n",
    "#convert to tfidf with dim = 300\n",
    "svd_tfidf_vector = svd.transform(input_data_preprocessed)"
   ]
  },
  {
   "cell_type": "code",
   "execution_count": 10,
   "metadata": {},
   "outputs": [],
   "source": [
    "result =  np.argmax(model(torch.tensor(svd_tfidf_vector, dtype = torch.float)).tolist() ,axis = 1)"
   ]
  },
  {
   "cell_type": "code",
   "execution_count": 11,
   "metadata": {},
   "outputs": [
    {
     "name": "stdout",
     "output_type": "stream",
     "text": [
      "data :  Theo Reuters, lãnh đạo các quốc gia Baltic và Trung Âu hôm 16-12 nói rằng EU đang bị Nga tấn công từ nhiều mặt và phải đoàn kết sau các biện pháp trừng phạt kinh tế mới, trong đó Lithuania viện dẫn nguy cơ có thể bị Nga tấn công quân sự từ Belarus.\n",
      "predict :  thế giới\n"
     ]
    }
   ],
   "source": [
    "print(\"data : \", new_data)\n",
    "print(\"predict : \" ,data_train['target_names'][result[0]])"
   ]
  }
 ],
 "metadata": {
  "interpreter": {
   "hash": "d1405479f6767a4430f7f812a2e33ccedcbb91df1823cf9534b70b5d5031d199"
  },
  "kernelspec": {
   "display_name": "Python 3.7.1 64-bit ('base': conda)",
   "language": "python",
   "name": "python3"
  },
  "language_info": {
   "codemirror_mode": {
    "name": "ipython",
    "version": 3
   },
   "file_extension": ".py",
   "mimetype": "text/x-python",
   "name": "python",
   "nbconvert_exporter": "python",
   "pygments_lexer": "ipython3",
   "version": "3.7.1"
  },
  "orig_nbformat": 4
 },
 "nbformat": 4,
 "nbformat_minor": 2
}
